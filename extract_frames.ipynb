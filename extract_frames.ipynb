{
 "cells": [
  {
   "cell_type": "code",
   "execution_count": 53,
   "metadata": {},
   "outputs": [],
   "source": [
    "import os\n",
    "import logging\n",
    "import pandas as pd"
   ]
  },
  {
   "cell_type": "code",
   "execution_count": 56,
   "metadata": {},
   "outputs": [
    {
     "data": {
      "text/plain": [
       "0"
      ]
     },
     "execution_count": 56,
     "metadata": {},
     "output_type": "execute_result"
    }
   ],
   "source": [
    "args_source_path = \"C:\\\\Users\\\\di\\\\Documents\\\\BA_vivi\\\\Coding\\\\gaussian-splatting\\\\input\\\\videos\\\\theater_statue.MOV\"\n",
    "args_fps = 0.1\n",
    "\n",
    "video_file = os.path.basename(args_source_path)\n",
    "video_name = os.path.splitext(video_file)[0]\n",
    "\n",
    "# Initialize the counter\n",
    "counter = 1\n",
    "\n",
    "# Create the output directory name\n",
    "output_dir = \"./input/\" + video_name + \"_{:04d}\".format(counter)\n",
    "\n",
    "# Check if the directory exists\n",
    "while os.path.exists(output_dir):\n",
    "    # If it exists, increment the counter and create a new directory name\n",
    "    counter += 1\n",
    "    output_dir = \"./input/\" + video_name + \"_{:04d}\".format(counter)\n",
    "\n",
    "# Create the directory\n",
    "os.makedirs(output_dir + \"/input\", exist_ok=True)\n",
    "\n",
    "# Extract the frames\n",
    "os.system(\"ffmpeg\" + \" -i \" + args_source_path + \" -qscale:v 1 -qmin 1 -vf fps={} \".format(args_fps) + output_dir + \"/input/%04d.png\")"
   ]
  },
  {
   "cell_type": "code",
   "execution_count": 57,
   "metadata": {},
   "outputs": [],
   "source": [
    "# Create or add to the input.csv file\n",
    "df = pd.DataFrame(columns=[\"input_set\", \"video\", \"fps_extracted\", \"frame_count\"])\n",
    "\n",
    "if not os.path.exists(\"./input/input.csv\"):\n",
    "    df.to_csv(\"./input/input.csv\", index=False)\n",
    "\n",
    "df = df.append({\"input_set\": os.path.basename(output_dir), \"video\": video_file, \"fps_extracted\": args_fps, \"frame_count\": len(os.listdir(output_dir + \"/input\"))}, ignore_index=True)\n",
    "df.to_csv(\"./input/input.csv\", mode='a', index=False, header=False)"
   ]
  }
 ],
 "metadata": {
  "kernelspec": {
   "display_name": "gaussian_splatting",
   "language": "python",
   "name": "python3"
  },
  "language_info": {
   "codemirror_mode": {
    "name": "ipython",
    "version": 3
   },
   "file_extension": ".py",
   "mimetype": "text/x-python",
   "name": "python",
   "nbconvert_exporter": "python",
   "pygments_lexer": "ipython3",
   "version": "3.7.13"
  }
 },
 "nbformat": 4,
 "nbformat_minor": 2
}
